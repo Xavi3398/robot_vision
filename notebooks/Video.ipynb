{
 "cells": [
  {
   "cell_type": "markdown",
   "id": "4954d826-21ba-4a81-a94e-067c54ec74c4",
   "metadata": {},
   "source": [
    "# Recognition for input video"
   ]
  },
  {
   "cell_type": "code",
   "execution_count": 1,
   "id": "19a25951-89cb-4165-9359-8f2f22048230",
   "metadata": {
    "tags": []
   },
   "outputs": [],
   "source": [
    "%load_ext autoreload\n",
    "%autoreload 2"
   ]
  },
  {
   "cell_type": "code",
   "execution_count": 2,
   "id": "050535cf-4ac3-4f93-b1e8-1bb8d7700304",
   "metadata": {
    "tags": []
   },
   "outputs": [
    {
     "name": "stderr",
     "output_type": "stream",
     "text": [
      "D:\\ProgramData\\Anaconda3\\envs\\age_gender\\lib\\site-packages\\numba\\np\\ufunc\\parallel.py:371: NumbaWarning: \u001b[1mThe TBB threading layer requires TBB version 2021 update 6 or later i.e., TBB_INTERFACE_VERSION >= 12060. Found TBB_INTERFACE_VERSION = 12030. The TBB threading layer is disabled.\u001b[0m\n",
      "  warnings.warn(problem)\n",
      "D:\\ProgramData\\Anaconda3\\envs\\age_gender\\lib\\site-packages\\tqdm\\auto.py:21: TqdmWarning: IProgress not found. Please update jupyter and ipywidgets. See https://ipywidgets.readthedocs.io/en/stable/user_install.html\n",
      "  from .autonotebook import tqdm as notebook_tqdm\n"
     ]
    }
   ],
   "source": [
    "from robot_vision.recognition import predefined\n",
    "from robot_vision.utils.video import VideoRecognitionPath\n",
    "\n",
    "predefined.MODELS_FOLDER = '../robot_vision/models'\n",
    "predefined.USER_FACES_FOLDER = '../robot_vision/user_faces'"
   ]
  },
  {
   "cell_type": "markdown",
   "id": "af67f0a2",
   "metadata": {},
   "source": [
    "Select options:"
   ]
  },
  {
   "cell_type": "code",
   "execution_count": 3,
   "id": "f739b974-2cf7-40ac-ae35-f2e583187a17",
   "metadata": {
    "tags": []
   },
   "outputs": [
    {
     "name": "stderr",
     "output_type": "stream",
     "text": [
      "Model summary (fused): 268 layers, 68125494 parameters, 0 gradients\n"
     ]
    }
   ],
   "source": [
    "video_path = 'resources/input_video.mp4'\n",
    "recognizer = predefined.PREDEFINED_RECOGNIZERS['face_detection']['YOLOv8']()\n",
    "mode = 'plot'\n",
    "output_path = 'resources/output_video.mp4'\n",
    "vr = VideoRecognitionPath(video_path, recognizer, step=1)"
   ]
  },
  {
   "cell_type": "markdown",
   "id": "6443e0bd",
   "metadata": {},
   "source": [
    "Run recognition:"
   ]
  },
  {
   "cell_type": "code",
   "execution_count": 4,
   "id": "b40b3aa3",
   "metadata": {
    "tags": []
   },
   "outputs": [
    {
     "name": "stderr",
     "output_type": "stream",
     "text": [
      "100%|████████████████████████████████████████████████████████████████████████████████| 192/192 [00:06<00:00, 28.97it/s]\n"
     ]
    }
   ],
   "source": [
    "vr.run()"
   ]
  },
  {
   "cell_type": "markdown",
   "id": "0755b450",
   "metadata": {},
   "source": [
    "Show results:"
   ]
  },
  {
   "cell_type": "code",
   "execution_count": 5,
   "id": "7ea57993",
   "metadata": {
    "tags": []
   },
   "outputs": [
    {
     "name": "stdout",
     "output_type": "stream",
     "text": [
      "Output video saved at: 'resources/output_video.mp4'\n"
     ]
    }
   ],
   "source": [
    "if mode == 'text':\n",
    "    print(vr.get_results_list())\n",
    "else:\n",
    "    vr.get_results_plot(output_path)\n",
    "    print(\"Output video saved at: '%s'\" % output_path)"
   ]
  }
 ],
 "metadata": {
  "kernelspec": {
   "display_name": "age_gender",
   "language": "python",
   "name": "age_gender"
  },
  "language_info": {
   "codemirror_mode": {
    "name": "ipython",
    "version": 3
   },
   "file_extension": ".py",
   "mimetype": "text/x-python",
   "name": "python",
   "nbconvert_exporter": "python",
   "pygments_lexer": "ipython3",
   "version": "3.8.18"
  },
  "toc-autonumbering": true
 },
 "nbformat": 4,
 "nbformat_minor": 5
}
